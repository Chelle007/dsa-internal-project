{
 "cells": [
  {
   "cell_type": "code",
   "execution_count": 52,
   "metadata": {},
   "outputs": [],
   "source": [
    "import openai\n",
    "from serpapi import GoogleSearch\n",
    "from dotenv import load_dotenv\n",
    "import os\n",
    "import json\n",
    "from flask import jsonify"
   ]
  },
  {
   "cell_type": "code",
   "execution_count": null,
   "metadata": {},
   "outputs": [],
   "source": [
    "load_dotenv()\n",
    "\n",
    "OPENAI_API_KEY = os.getenv('OPENAI_API_KEY')\n",
    "SERP_API_KEY = os.getenv('SERP_API_KEY')"
   ]
  },
  {
   "cell_type": "code",
   "execution_count": null,
   "metadata": {},
   "outputs": [],
   "source": [
    "def google_shopping_search(query, num_results = 5):\n",
    "    params = {\n",
    "        \"api_key\": SERP_API_KEY,\n",
    "        \"engine\": \"google_shopping\",\n",
    "        \"q\": query,\n",
    "        \"hl\": \"en\",\n",
    "        \"gl\": \"sg\",\n",
    "        \"num\": num_results\n",
    "    }\n",
    "\n",
    "    search = GoogleSearch(params)\n",
    "    results = search.get_dict()\n",
    "    products = []\n",
    "\n",
    "    for item in results.get(\"shopping_results\", []):\n",
    "        product = {\n",
    "            \"name\": item.get(\"title\"),\n",
    "            \"product_url\": item.get(\"link\"),\n",
    "            \"shop_name\": item.get(\"source\"),\n",
    "            \"image_url\": item.get(\"thumbnail\"),\n",
    "            \"price\": item.get(\"price\")\n",
    "        }\n",
    "        products.append(product)\n",
    "\n",
    "    return products\n"
   ]
  },
  {
   "cell_type": "code",
   "execution_count": null,
   "metadata": {},
   "outputs": [
    {
     "name": "stdout",
     "output_type": "stream",
     "text": [
      "{'name': \"100% Cotton Men's Casual Thick T-Shirt Japanese Style Festival Loose Oversized ...\", 'product_url': 'https://shopee.sg/product/329084101/15800323859?gads_t_sig=VTJGc2RHVmtYMTlxTFVSVVRrdENkY0N5akVpcE5OamJEdjRRTHBOTzhmbmtuN0M4eG4vYVZ2ejkxVkYrbmZ2Sm8zYzdXcGpZc0YwRUZQbDU4a1V6VFh4KytGNG51N2ZOTS9zRjF0cWRibThYL1doYTVBUDBIRzVCVHhHN215OWc', 'shop_name': 'Shopee', 'image_url': 'https://encrypted-tbn2.gstatic.com/shopping?q=tbn:ANd9GcTQddDCez3LWkXifNxj7Mhsqkmk4Fjp5YxPuBSlbRhiufIL_5vDPSEmHI-O9cFKcr2H2rpvcVFcWd36uDK1eaYCNvIfIg6WvtCYPHOuQa9R&usqp=CAE', 'price': '$17.43'}\n",
      "{'name': 'DLSTAR 100% Cotton Polo Short Sleeve T-Shirt - Casual Homewear Comfy Tee ...', 'product_url': 'https://www.lazada.sg/products/dlstar-100-cotton-polo-short-sleeve-t-shirt-casual-homewear-comfy-tee-activewear-sports-professional-officewear-i2505839638-s20739942619.html?from_gmc=1&fl_tag=1', 'shop_name': 'Lazada Singapore', 'image_url': 'https://encrypted-tbn1.gstatic.com/shopping?q=tbn:ANd9GcSbgVTfb6M_nSAA32-OwWKWgsrKOPuUyKPmOT7B9JJsDIQkDjb6wmO_OU28Q6UodW6Yc2WiP6dJZKUYS0sGNrps5Sz-OUYFu6W_zKB4CwPKa46ZGCCV_UQV&usqp=CAE', 'price': '$17.90'}\n",
      "{'name': 'Nuoyi Lapel Collar Men Shirt Men Slim Fit Shirt Mens Formal Slim Fit Business ...', 'product_url': 'https://www.lazada.sg/products/nuoyi-lapel-collar-men-shirt-men-slim-fit-shirt-mens-formal-slim-fit-business-shirt-breathable-long-sleeve-office-top-i2973000794-s20425658593.html?from_gmc=1&fl_tag=1', 'shop_name': 'Lazada Singapore', 'image_url': 'https://encrypted-tbn1.gstatic.com/shopping?q=tbn:ANd9GcQEFG5dPD12Ug_AxrFX9PDrvGxohMax1ZA4UY5TkHXhLnws3-HNDG_oiEaDQSTBp5aS4zJE8ACjrInNH5jIDmSwFfpV5F-k4IEfyAFt_CaWWvUWXEXX6LGX0A&usqp=CAE', 'price': '$12.72'}\n",
      "{'name': 'Amazon Brand - Goodthreads Mens Standard-fit Long-sleeve End On End Shirt | Ubuy', 'product_url': 'https://www.ubuy.com.pk/en/product/77GVFZT6-amazon-brand-goodthreads-mens-standard-fit-long-sleeve-end-on-end-shirt?srsltid=AfmBOorBeePM-l5mDbWg0ItPNj-UBQl3oUDJdzIhmOpaciYPzD2wRJmTq-w', 'shop_name': 'Ubuy', 'image_url': 'https://encrypted-tbn3.gstatic.com/shopping?q=tbn:ANd9GcSJxnRF0d5_ME5uXJuf5n6H4i4i8xyrP2GWZewnwV4RpAMkdCRNqd52Tn0btcEJIBPE-7W8RXHfgzUYo56G7xFfumhGIshr5A&usqp=CAE', 'price': '$32.90'}\n",
      "{'name': \"Amazon Aware Men's Cotton Crew T-shirt\", 'product_url': 'https://www.a.ubuy.com.kw/en/product/4RKSDOH28-amazon-aware-men-39-s-cotton-crew-t-shirt?srsltid=AfmBOopDiPrXSGdj3-BGscd_1CkLwD0lk46T-8aLQHyaggTledJ4VyshyAQ', 'shop_name': 'Ubuy', 'image_url': 'https://encrypted-tbn3.gstatic.com/shopping?q=tbn:ANd9GcRPhDqp9ZNFw4nOktu3ay4-W2hn5IB8-m7gi0-tw3ayft7m8iPRcu0hPM7fCvRJMpcmFLt1eb2DwCRWzHB7Qhso9Q5oOv-TpVQEflS-A_OC&usqp=CAE', 'price': '$48.17'}\n"
     ]
    }
   ],
   "source": [
    "results = google_shopping_search(\"shirts <$100\", 5)\n",
    "for product in results:\n",
    "    print(product)\n"
   ]
  },
  {
   "cell_type": "code",
   "execution_count": 25,
   "metadata": {},
   "outputs": [],
   "source": [
    "def create_keyword(category, preferences):\n",
    "    prompt = f\"category: {category}. preferences: {preferences}\"\n",
    "    system_msg = \"\"\"You are a helpful assistant for fashion and shopping recommendations. Based on the clothes category and preferences, generate json format of an effective keyword to be used in serpapi google shopping search api and a short sentence of response.\n",
    "                    JSON format:\n",
    "                    {\n",
    "                        \"keyword\": the keyword,\n",
    "                        \"response\": 1 short sentence of response (example: Here are the top 5 recommended shirt products)\n",
    "                    }\"\"\"\n",
    "\n",
    "    response = openai.ChatCompletion.create(\n",
    "        model = \"gpt-4o\",\n",
    "\n",
    "        messages = [\n",
    "            {\"role\": \"system\", \"content\": system_msg},\n",
    "            {\"role\": \"user\", \"content\": prompt}\n",
    "        ]\n",
    "    )\n",
    "    \n",
    "    return response['choices'][0]['message']['content'].strip()"
   ]
  },
  {
   "cell_type": "code",
   "execution_count": 26,
   "metadata": {},
   "outputs": [
    {
     "name": "stdout",
     "output_type": "stream",
     "text": [
      "```json\n",
      "{\n",
      "    \"keyword\": \"affordable green shirts\",\n",
      "    \"response\": \"Here are budget-friendly green shirt options for you.\"\n",
      "}\n",
      "```\n"
     ]
    }
   ],
   "source": [
    "print(create_keyword(\"shirts\", \"I love green color, and i'm poor.\"))"
   ]
  },
  {
   "cell_type": "code",
   "execution_count": 59,
   "metadata": {},
   "outputs": [],
   "source": [
    "def generate_response(category, preferences = \"\"):\n",
    "    prompt = f\"category: {category}. preferences: {preferences}\"\n",
    "    system_msg = \"\"\"You are a helpful assistant for fashion and shopping recommendations. Based on the clothes category and preferences, generate json format of an effective keyword to be used in serpapi google shopping search api and a short sentence of response. Starts the response with '{' and ends with '}'\n",
    "                    The format: {\n",
    "                        \"keyword\": <the keyword>\n",
    "                        \"response\": <1 short sentence of response> (example: Here are the recommended blue shirts:)\n",
    "                    }\n",
    "                \"\"\"\n",
    "\n",
    "    response = openai.ChatCompletion.create(\n",
    "        model = \"gpt-4o\",\n",
    "\n",
    "        messages = [\n",
    "            {\"role\": \"system\", \"content\": system_msg},\n",
    "            {\"role\": \"user\", \"content\": prompt}\n",
    "        ]\n",
    "    )\n",
    "\n",
    "    return response['choices'][0]['message']['content'].strip()\n"
   ]
  },
  {
   "cell_type": "code",
   "execution_count": 66,
   "metadata": {},
   "outputs": [
    {
     "name": "stdout",
     "output_type": "stream",
     "text": [
      "{'keyword': 'affordable green shirts', 'response': 'Here are some affordable green shirts for you:'}\n",
      "keyword: affordable green shirts\n",
      "response: Here are some affordable green shirts for you:\n"
     ]
    }
   ],
   "source": [
    "gpt_response = generate_response(\"shirt\", \"I love green color and I am poor.\")\n",
    "gpt_response = json.loads(gpt_response)\n",
    "print(gpt_response)\n",
    "keyword = gpt_response['keyword']\n",
    "response = gpt_response['response']\n",
    "print(f\"keyword: {keyword}\")\n",
    "print(f\"response: {response}\")"
   ]
  },
  {
   "cell_type": "code",
   "execution_count": 28,
   "metadata": {},
   "outputs": [],
   "source": [
    "def rephrase_details(search_results):\n",
    "    system_msg = \"\"\"You are a helpful assistant that is good at shortening description. User will input search results in json format, you must also return the same json format but with shortened text.\n",
    "                    JSON format:\n",
    "                    {\n",
    "                        \"name\": (make sure it is 5 to 8 inclusive words),\n",
    "                        \"product_url\": (don't need to shorten this, just return the same url),\n",
    "                        \"shop_name\": (make sure it is 1 or 2 words and not url),\n",
    "                        \"image_url\": (don't need to shorten this, just return the same url),\n",
    "                        \"price\": (don't need to shorten this, just return the same price)\n",
    "                    }\"\"\"\n",
    "\n",
    "    response = openai.ChatCompletion.create(\n",
    "        model = \"gpt-4o\",\n",
    "\n",
    "        messages = [\n",
    "            {\"role\": \"system\", \"content\": system_msg},\n",
    "            {\"role\": \"user\", \"content\": search_results}\n",
    "        ]\n",
    "    )\n",
    "    \n",
    "    return response['choices'][0]['message']['content'].strip()"
   ]
  },
  {
   "cell_type": "code",
   "execution_count": 33,
   "metadata": {},
   "outputs": [
    {
     "name": "stdout",
     "output_type": "stream",
     "text": [
      "[{\"name\": \"Buy Men's Floral Printed Formal Shirt Online @ womensfashionfun M / Charcoal ...\", \"product_url\": \"https://www.womensfashionfun.com/products/mens-floral-printed-formal-shirt-sf_885charcoal?variant=45878129000618&country=SG&currency=SGD&utm_medium=product_sync&utm_source=google&utm_content=sag_organic&utm_campaign=sag_organic&srsltid=AfmBOooGLN-WS2KGLbervv-bVTZaTdfQ5SlgxMaWyJe-jzuFV5-1iTkmmKE\", \"shop_name\": \"Womens Fashion Fun\", \"image_url\": \"https://encrypted-tbn1.gstatic.com/shopping?q=tbn:ANd9GcQ_KUcotvVyAhzuJjcxG5Qi1RpllpyYHtuEeIzqlFGjFDcWZafObluoMrep7kcx52LeEs2-dWmDjjjKhLRPO1tINRZbQBv3_lM5oERvp6Ne24Sdc_wDi6sC&usqp=CAE\", \"price\": \"$34.00\"}, {\"name\": \"Buy Men's Floral Printed Formal Shirt Online @ womensfashionfun L / Grey / Polycotton\", \"product_url\": \"https://www.womensfashionfun.com/products/mens-floral-printed-formal-shirt-sf_885grey?variant=45878127296682&country=SG&currency=SGD&utm_medium=product_sync&utm_source=google&utm_content=sag_organic&utm_campaign=sag_organic&srsltid=AfmBOoot87LXforAWvd5kExgyzA_qoIDKVraX3m7rrKPIO3ml8OhDYIGhwU\", \"shop_name\": \"Womens Fashion Fun\", \"image_url\": \"https://encrypted-tbn3.gstatic.com/shopping?q=tbn:ANd9GcSljLqsl0jck-Ye7YL22uEB4QbWwGZvX1UMATwXkBGtVSH-qY4wgQDJKhR7KQYZB3NvnSugbDLGUbB4FiOwz_vPokgenAn7TZ9EiGxTxzVYw7Pn9WZsRVc2&usqp=CAE\", \"price\": \"$34.00\"}, {\"name\": \"Reunion Dinner Cotton Men's Shirt\", \"product_url\": \"https://www.allwouldenvy.com/product/clothing/tops/reunion-dinner-cotton-mens-shirt?srsltid=AfmBOooSVw7Q5ZV1raWrv_47258AJ1ujOG1B4uPy2ZmCHp-IawXPNRsbm74\", \"shop_name\": \"All Would Envy\", \"image_url\": \"https://encrypted-tbn0.gstatic.com/shopping?q=tbn:ANd9GcSMRPwdVMjlULi2wIcXxC9QlQVg3shqk5gf7vM16bNr-asZ1yslviYAmOJhptefZggrsBO3XjYRuHFstco13S0NsB1l7n9ba8VmCATh12POuiOCm4EBe16yMg&usqp=CAE\", \"price\": \"$40.00\"}, {\"name\": \"Gildan Heavy Cotton Adult T-Shirt\", \"product_url\": \"https://www.lazada.sg/products/gildan-heavy-cotton-adult-t-shirt-i1723890678-s8491366110.html?from_gmc=1&fl_tag=1\", \"shop_name\": \"Lazada Singapore\", \"image_url\": \"https://encrypted-tbn1.gstatic.com/shopping?q=tbn:ANd9GcQvZRIwERYA87OWC5JZSIoiUl2gGsT62vJmiQEmWMBoGgumia_JsLzrlD_TrzunrxsX8Ddj869nycdR5SESPVge3JnpqtWYHi1WEy0sdjbeSbSciT4m5BwO&usqp=CAE\", \"price\": \"$10.90\"}, {\"name\": \"Signature Printed Shirt\", \"product_url\": \"https://thebespokeclub.sg/product/signature-printed-shirt-3/?srsltid=AfmBOoofgJ-HCv4gisARAff344pGBGIoUm5x_u6iv9qhcp_VoA_j8hQJR0o\", \"shop_name\": \"The Bespoke Club Singapore\", \"image_url\": \"https://encrypted-tbn0.gstatic.com/shopping?q=tbn:ANd9GcTp7yNcRGc0Hsrwaa1cO_6MDWZFMuDKgueq3ow2VxJYYXJNZjHdErQZT8DLIlqvB4DqSBnDvY2C86QcODnUtl6CvnDhRruct0rA08Kw_iS9HLCBHi39ITNFRA&usqp=CAE\", \"price\": \"$150.00\"}]\n",
      "```json\n",
      "[\n",
      "    {\n",
      "        \"name\": \"Men's Charcoal Floral Formal Shirt\",\n",
      "        \"product_url\": \"https://www.womensfashionfun.com/products/mens-floral-printed-formal-shirt-sf_885charcoal?variant=45878129000618&country=SG&currency=SGD&utm_medium=product_sync&utm_source=google&utm_content=sag_organic&utm_campaign=sag_organic&srsltid=AfmBOooGLN-WS2KGLbervv-bVTZaTdfQ5SlgxMaWyJe-jzuFV5-1iTkmmKE\",\n",
      "        \"shop_name\": \"Womens Fashion\",\n",
      "        \"image_url\": \"https://encrypted-tbn1.gstatic.com/shopping?q=tbn:ANd9GcQ_KUcotvVyAhzuJjcxG5Qi1RpllpyYHtuEeIzqlFGjFDcWZafObluoMrep7kcx52LeEs2-dWmDjjjKhLRPO1tINRZbQBv3_lM5oERvp6Ne24Sdc_wDi6sC&usqp=CAE\",\n",
      "        \"price\": \"$34.00\"\n",
      "    },\n",
      "    {\n",
      "        \"name\": \"Men's Grey Floral Formal Shirt\",\n",
      "        \"product_url\": \"https://www.womensfashionfun.com/products/mens-floral-printed-formal-shirt-sf_885grey?variant=45878127296682&country=SG&currency=SGD&utm_medium=product_sync&utm_source=google&utm_content=sag_organic&utm_campaign=sag_organic&srsltid=AfmBOoot87LXforAWvd5kExgyzA_qoIDKVraX3m7rrKPIO3ml8OhDYIGhwU\",\n",
      "        \"shop_name\": \"Womens Fashion\",\n",
      "        \"image_url\": \"https://encrypted-tbn3.gstatic.com/shopping?q=tbn:ANd9GcSljLqsl0jck-Ye7YL22uEB4QbWwGZvX1UMATwXkBGtVSH-qY4wgQDJKhR7KQYZB3NvnSugbDLGUbB4FiOwz_vPokgenAn7TZ9EiGxTxzVYw7Pn9WZsRVc2&usqp=CAE\",\n",
      "        \"price\": \"$34.00\"\n",
      "    },\n",
      "    {\n",
      "        \"name\": \"Reunion Dinner Men’s Cotton Shirt\",\n",
      "        \"product_url\": \"https://www.allwouldenvy.com/product/clothing/tops/reunion-dinner-cotton-mens-shirt?srsltid=AfmBOooSVw7Q5ZV1raWrv_47258AJ1ujOG1B4uPy2ZmCHp-IawXPNRsbm74\",\n",
      "        \"shop_name\": \"All Would\",\n",
      "        \"image_url\": \"https://encrypted-tbn0.gstatic.com/shopping?q=tbn:ANd9GcSMRPwdVMjlULi2wIcXxC9QlQVg3shqk5gf7vM16bNr-asZ1yslviYAmOJhptefZggrsBO3XjYRuHFstco13S0NsB1l7n9ba8VmCATh12POuiOCm4EBe16yMg&usqp=CAE\",\n",
      "        \"price\": \"$40.00\"\n",
      "    },\n",
      "    {\n",
      "        \"name\": \"Gildan Heavy Cotton Adult T-Shirt\",\n",
      "        \"product_url\": \"https://www.lazada.sg/products/gildan-heavy-cotton-adult-t-shirt-i1723890678-s8491366110.html?from_gmc=1&fl_tag=1\",\n",
      "        \"shop_name\": \"Lazada\",\n",
      "        \"image_url\": \"https://encrypted-tbn1.gstatic.com/shopping?q=tbn:ANd9GcQvZRIwERYA87OWC5JZSIoiUl2gGsT62vJmiQEmWMBoGgumia_JsLzrlD_TrzunrxsX8Ddj869nycdR5SESPVge3JnpqtWYHi1WEy0sdjbeSbSciT4m5BwO&usqp=CAE\",\n",
      "        \"price\": \"$10.90\"\n",
      "    },\n",
      "    {\n",
      "        \"name\": \"Signature Printed Men's Shirt\",\n",
      "        \"product_url\": \"https://thebespokeclub.sg/product/signature-printed-shirt-3/?srsltid=AfmBOoofgJ-HCv4gisARAff344pGBGIoUm5x_u6iv9qhcp_VoA_j8hQJR0o\",\n",
      "        \"shop_name\": \"The Bespoke\",\n",
      "        \"image_url\": \"https://encrypted-tbn0.gstatic.com/shopping?q=tbn:ANd9GcTp7yNcRGc0Hsrwaa1cO_6MDWZFMuDKgueq3ow2VxJYYXJNZjHdErQZT8DLIlqvB4DqSBnDvY2C86QcODnUtl6CvnDhRruct0rA08Kw_iS9HLCBHi39ITNFRA&usqp=CAE\",\n",
      "        \"price\": \"$150.00\"\n",
      "    }\n",
      "]\n",
      "```\n"
     ]
    }
   ],
   "source": [
    "search_results = json.dumps(google_shopping_search(\"shirts\"))\n",
    "\n",
    "print(search_results)\n",
    "print(rephrase_details(search_results))"
   ]
  },
  {
   "cell_type": "code",
   "execution_count": null,
   "metadata": {},
   "outputs": [],
   "source": [
    "def shorten_text(text, min, max):\n",
    "    system_msg = \"You are a helpful assistant that is good at shortening text.\"\n",
    "    prompt = f\"Shorten this text into {min} to {max} (inclusive) words: {text}\"\n",
    "\n",
    "    response = openai.ChatCompletion.create(\n",
    "        model = \"gpt-4o\",\n",
    "\n",
    "        messages = [\n",
    "            {\"role\": \"system\", \"content\": system_msg},\n",
    "            {\"role\": \"user\", \"content\": prompt}\n",
    "        ]\n",
    "    )\n",
    "    \n",
    "    return response['choices'][0]['message']['content'].strip()"
   ]
  }
 ],
 "metadata": {
  "kernelspec": {
   "display_name": ".venv",
   "language": "python",
   "name": "python3"
  },
  "language_info": {
   "codemirror_mode": {
    "name": "ipython",
    "version": 3
   },
   "file_extension": ".py",
   "mimetype": "text/x-python",
   "name": "python",
   "nbconvert_exporter": "python",
   "pygments_lexer": "ipython3",
   "version": "3.12.0"
  }
 },
 "nbformat": 4,
 "nbformat_minor": 2
}
